{
  "nbformat": 4,
  "nbformat_minor": 0,
  "metadata": {
    "colab": {
      "name": "Extrapolacion.ipynb",
      "provenance": [],
      "authorship_tag": "ABX9TyNGSjc6+5u/vRxTj3gk2I/k",
      "include_colab_link": true
    },
    "kernelspec": {
      "name": "python3",
      "display_name": "Python 3"
    },
    "language_info": {
      "name": "python"
    }
  },
  "cells": [
    {
      "cell_type": "markdown",
      "metadata": {
        "id": "view-in-github",
        "colab_type": "text"
      },
      "source": [
        "<a href=\"https://colab.research.google.com/github/mvrzoviedo/Tesina/blob/main/Extrapolacion.ipynb\" target=\"_parent\"><img src=\"https://colab.research.google.com/assets/colab-badge.svg\" alt=\"Open In Colab\"/></a>"
      ]
    },
    {
      "cell_type": "code",
      "source": [
        "# Implementación de la extrapolación lineal\n",
        "\n",
        "# Definiendo la   \n",
        "def extrapolacion(d, x):\n",
        "    output = d[0][1] + (x - d[0][0]) * ((d[1][1] - d[0][1])/(d[1][0] - d[0][0]))\n",
        "  \n",
        "    return output\n",
        "  \n",
        "# Datos empíricos (Rehn, 2014)\n",
        "\n",
        "data=[[0, 4.70],[12192, 3.89]]\n",
        "  \n",
        "altura=30000\n",
        "  \n",
        "# Cálculo de la extrapolación\n",
        "\n",
        "print(\"Límite de flamabilidad a {} m es\".format(altura),\n",
        "             extrapolacion(data, altura))"
      ],
      "metadata": {
        "colab": {
          "base_uri": "https://localhost:8080/"
        },
        "id": "U6lB5-X7kePl",
        "outputId": "c31a0903-9494-41a3-e51c-42c637b89b14"
      },
      "execution_count": null,
      "outputs": [
        {
          "output_type": "stream",
          "name": "stdout",
          "text": [
            "Límite de flamabilidad a 30000 m es 2.7068897637795275\n"
          ]
        }
      ]
    }
  ]
}